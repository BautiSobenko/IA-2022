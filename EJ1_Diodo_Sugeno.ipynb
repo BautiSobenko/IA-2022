{
  "nbformat": 4,
  "nbformat_minor": 0,
  "metadata": {
    "colab": {
      "provenance": [],
      "authorship_tag": "ABX9TyOwRhI++8vOI8L1yHYtWaXi",
      "include_colab_link": true
    },
    "kernelspec": {
      "name": "python3",
      "display_name": "Python 3"
    },
    "language_info": {
      "name": "python"
    }
  },
  "cells": [
    {
      "cell_type": "markdown",
      "metadata": {
        "id": "view-in-github",
        "colab_type": "text"
      },
      "source": [
        "<a href=\"https://colab.research.google.com/github/BautiSobenko/IA-2022/blob/main/EJ1_Diodo_Sugeno.ipynb\" target=\"_parent\"><img src=\"https://colab.research.google.com/assets/colab-badge.svg\" alt=\"Open In Colab\"/></a>"
      ]
    },
    {
      "cell_type": "code",
      "execution_count": 24,
      "metadata": {
        "id": "6wtLMBJCQp91"
      },
      "outputs": [],
      "source": [
        "import numpy as np\n",
        "import matplotlib.pyplot as plt\n",
        "import pandas as pd"
      ]
    },
    {
      "cell_type": "markdown",
      "source": [
        "### **Subtractive Algorithm**"
      ],
      "metadata": {
        "id": "3PuPhHUdRIzH"
      }
    },
    {
      "cell_type": "code",
      "source": [
        "\"\"\"Subtractive Clustering Algorithm\n",
        "\"\"\"\n",
        "__author__ = 'Daniel Albornoz'\n",
        "\n",
        "\n",
        "import numpy as np\n",
        "import matplotlib.pyplot as plt\n",
        "from sklearn.preprocessing import MinMaxScaler\n",
        "from scipy.spatial import distance_matrix\n",
        "\n",
        "def subclust2(data, Ra, Rb=0, AcceptRatio=0.3, RejectRatio=0.1):\n",
        "    if Rb==0:\n",
        "        Rb = Ra*1.15\n",
        "        \n",
        "    scaler = MinMaxScaler()\n",
        "    scaler.fit(data) \n",
        "    ndata = scaler.transform(data)\n",
        "    \n",
        "    # 14/05/2020 cambio list comprehensions por distance matrix\n",
        "    #P = np.array([np.sum([np.exp(-(np.linalg.norm(u-v)**2)/(Ra/2)**2) for v in ndata]) for u in ndata])\n",
        "    #print(P)\n",
        "    P = distance_matrix(ndata,ndata)\n",
        "    alpha=(Ra/2)**2\n",
        "    P = np.sum(np.exp(-P**2/alpha),axis=0)\n",
        "   \n",
        "    centers = []\n",
        "    i=np.argmax(P)\n",
        "    C = ndata[i]\n",
        "    p=P[i]\n",
        "    centers = [C]\n",
        "    \n",
        "    continuar=True\n",
        "    restarP = True\n",
        "    while continuar:\n",
        "        pAnt = p\n",
        "        if restarP:\n",
        "            P=P-p*np.array([np.exp(-np.linalg.norm(v-C)**2/(Rb/2)**2) for v in ndata])            \n",
        "        restarP = True  \n",
        "        i=np.argmax(P)\n",
        "        C = ndata[i]\n",
        "        p=P[i]\n",
        "        if p>AcceptRatio*pAnt:\n",
        "            centers = np.vstack((centers,C))\n",
        "        elif p<RejectRatio*pAnt:\n",
        "            continuar=False\n",
        "        else: \n",
        "            dr = np.min([np.linalg.norm(v-C) for v in centers])\n",
        "            if dr/Ra+p/pAnt>=1:\n",
        "                centers = np.vstack((centers,C))\n",
        "            else:\n",
        "                P[i]=0\n",
        "                restarP = False\n",
        "        if not any(v>0 for v in P):\n",
        "            continuar = False\n",
        "    distancias = [[np.linalg.norm(p-c) for p in ndata] for c in centers]\n",
        "    labels = np.argmin(distancias, axis=0)\n",
        "    centers = scaler.inverse_transform(centers)\n",
        "\n",
        "    return labels, centers"
      ],
      "metadata": {
        "id": "9fI8XkcPQ0Rw"
      },
      "execution_count": 25,
      "outputs": []
    },
    {
      "cell_type": "markdown",
      "source": [
        "### **Sugeno algorithm** "
      ],
      "metadata": {
        "id": "x5oYaMsbRADX"
      }
    },
    {
      "cell_type": "code",
      "source": [
        "# -*- coding: utf-8 -*-\n",
        "\"\"\"\n",
        "Created on Wed May  6 17:56:16 2020\n",
        "\n",
        "@author: Daniel Albornoz\n",
        "\n",
        "Implementación similar a genfis2 de Matlab.\n",
        "Sugeno type FIS. Generado a partir de clustering substractivo.\n",
        "\n",
        "\"\"\"\n",
        "__author__ = 'Daniel Albornoz'\n",
        "\n",
        "import numpy as np\n",
        "import matplotlib.pyplot as plt\n",
        "\n",
        "from sklearn.preprocessing import MinMaxScaler\n",
        "import time\n",
        "\n",
        "def gaussmf(data, mean, sigma):\n",
        "    return np.exp(-((data - mean)**2.) / (2 * sigma**2.))\n",
        "    \n",
        "class fisRule:\n",
        "    def __init__(self, centroid, sigma):\n",
        "        self.centroid = centroid\n",
        "        self.sigma = sigma\n",
        "    \n",
        "class fisInput:\n",
        "    def __init__(self, min,max, centroids):\n",
        "        self.minValue = min\n",
        "        self.maxValue = max\n",
        "        self.centroids = centroids\n",
        "\n",
        "    \n",
        "    def view(self):\n",
        "        x = np.linspace(self.minValue,self.maxValue,20)\n",
        "        plt.figure(figsize=(12,12))\n",
        "        for m in self.centroids:\n",
        "            s = (self.minValue-self.maxValue)/8**0.5\n",
        "            y = gaussmf(x,m,s)\n",
        "            plt.title(\"GAUSSIANAS - REGLAS: {}\".format(self.centroids.size))\n",
        "            plt.xlabel(\"Tension (V)\") # Agregamos labels a los ejes\n",
        "            plt.ylabel(\"Grado de pertenencia μ\")\n",
        "            plt.plot(x,y)\n",
        "        \n",
        "class fis:\n",
        "    def __init__(self):\n",
        "        self.rules=[]\n",
        "        self.memberfunc = []\n",
        "        self.inputs = []\n",
        "        \n",
        "   \n",
        "    \n",
        "    def genfis(self, data, radii):\n",
        "\n",
        "        start_time = time.time()\n",
        "        labels, cluster_center = subclust2(data, radii)\n",
        "        \n",
        "        print(\"--- %s seconds ---\" % (time.time() - start_time))\n",
        "        n_clusters = len(cluster_center)\n",
        "        \n",
        "        cluster_center = cluster_center[:,:-1]\n",
        "        P = data[:,:-1]\n",
        "        #T = data[:,-1]\n",
        "        maxValue = np.max(P, axis=0)\n",
        "        minValue = np.min(P, axis=0)       \n",
        "     \n",
        "        self.inputs = [fisInput(maxValue[i], minValue[i],cluster_center[:,i]) for i in range(len(maxValue))]\n",
        "        self.rules = cluster_center\n",
        "        self.entrenar(data)\n",
        "\n",
        "    def entrenar(self, data):\n",
        "        P = data[:,:-1]\n",
        "        T = data[:,-1]\n",
        "        #___________________________________________\n",
        "        # MINIMOS CUADRADOS (lineal)\n",
        "        sigma = np.array([(i.maxValue-i.minValue)/np.sqrt(8) for i in self.inputs])\n",
        "        f = [np.prod(gaussmf(P,cluster,sigma),axis=1) for cluster in self.rules]\n",
        "        \n",
        "        nivel_acti = np.array(f).T\n",
        "        #print(\"nivel acti\")\n",
        "        #print(nivel_acti)\n",
        "        sumMu = np.vstack(np.sum(nivel_acti,axis=1))\n",
        "        #print(\"sumMu\")\n",
        "        #print(sumMu)\n",
        "        P = np.c_[P, np.ones(len(P))]\n",
        "        n_vars = P.shape[1]\n",
        "        \n",
        "        orden = np.tile(np.arange(0,n_vars), len(self.rules))\n",
        "        acti = np.tile(nivel_acti,[1,n_vars])\n",
        "        inp = P[:, orden]\n",
        "        \n",
        "        \n",
        "        A = acti*inp/sumMu\n",
        "        \n",
        "        # A = np.zeros((N, 2*n_clusters))\n",
        "        # for jdx in range(n_clusters):\n",
        "        #     for kdx in range(nVar):\n",
        "        #         A[:, jdx+kdx] = nivel_acti[:,jdx]*P[:,kdx]/sumMu\n",
        "        #         A[:, jdx+kdx+1] = nivel_acti[:,jdx]/sumMu\n",
        "        \n",
        "        b = T\n",
        "\n",
        "        solutions, residuals, rank, s = np.linalg.lstsq(A,b,rcond=None)\n",
        "        self.solutions = solutions #.reshape(n_clusters,n_vars)\n",
        "        print(solutions)\n",
        "        return 0\n",
        "\n",
        "    def evalfis(self, data):\n",
        "        sigma = np.array([(input.maxValue-input.minValue) for input in self.inputs])/np.sqrt(8)\n",
        "        f = [np.prod(gaussmf(data,cluster,sigma),axis=1) for cluster in self.rules]\n",
        "        nivel_acti = np.array(f).T\n",
        "        sumMu = np.vstack(np.sum(nivel_acti,axis=1))\n",
        "         \n",
        "        P = np.c_[data, np.ones(len(data))]\n",
        "        \n",
        "        n_vars = P.shape[1]\n",
        "        n_clusters = len(self.rules)\n",
        "        \n",
        "        orden = np.tile(np.arange(0,n_vars), n_clusters)\n",
        "        acti = np.tile(nivel_acti,[1,n_vars])\n",
        "        inp = P[:, orden]\n",
        "        coef = self.solutions\n",
        "        \n",
        "        return np.sum(acti*inp*coef/sumMu,axis=1)\n",
        "        \n",
        "    \n",
        "    def viewInputs(self):\n",
        "        for input in self.inputs:\n",
        "            input.view()"
      ],
      "metadata": {
        "id": "oXdsmqMXQ4Sb"
      },
      "execution_count": 76,
      "outputs": []
    },
    {
      "cell_type": "markdown",
      "source": [
        "### **Importo Raw df**"
      ],
      "metadata": {
        "id": "tHJwnpdYRVvg"
      }
    },
    {
      "cell_type": "code",
      "source": [
        "!wget https://raw.githubusercontent.com/BautiSobenko/IA-2022/main/datosDiodo.txt"
      ],
      "metadata": {
        "colab": {
          "base_uri": "https://localhost:8080/"
        },
        "id": "WtgvbNOKRVbs",
        "outputId": "f7077f49-83ea-4068-9b98-ae9cfe347155"
      },
      "execution_count": 27,
      "outputs": [
        {
          "output_type": "stream",
          "name": "stdout",
          "text": [
            "--2022-09-18 16:03:02--  https://raw.githubusercontent.com/BautiSobenko/IA-2022/main/datosDiodo.txt\n",
            "Resolving raw.githubusercontent.com (raw.githubusercontent.com)... 185.199.108.133, 185.199.109.133, 185.199.110.133, ...\n",
            "Connecting to raw.githubusercontent.com (raw.githubusercontent.com)|185.199.108.133|:443... connected.\n",
            "HTTP request sent, awaiting response... 200 OK\n",
            "Length: 542 [text/plain]\n",
            "Saving to: ‘datosDiodo.txt.1’\n",
            "\n",
            "\rdatosDiodo.txt.1      0%[                    ]       0  --.-KB/s               \rdatosDiodo.txt.1    100%[===================>]     542  --.-KB/s    in 0s      \n",
            "\n",
            "2022-09-18 16:03:02 (26.1 MB/s) - ‘datosDiodo.txt.1’ saved [542/542]\n",
            "\n"
          ]
        }
      ]
    },
    {
      "cell_type": "code",
      "source": [
        "# V = Tension en bornes\n",
        "# I = Corriente que atraviesa el diodo\n",
        "df = pd.read_csv(\"datosDiodo.txt\", sep=\"\\t\", header=None, names=[\"V\",\"I\"] )"
      ],
      "metadata": {
        "id": "CL4n6kByRgWH"
      },
      "execution_count": 28,
      "outputs": []
    },
    {
      "cell_type": "code",
      "source": [
        "df.head()"
      ],
      "metadata": {
        "colab": {
          "base_uri": "https://localhost:8080/",
          "height": 206
        },
        "id": "WFoDVaZ3SXNP",
        "outputId": "ba270bad-44a1-4ab0-9c5e-a616f7b3b0c0"
      },
      "execution_count": 29,
      "outputs": [
        {
          "output_type": "execute_result",
          "data": {
            "text/plain": [
              "      V        I\n",
              "0  0.46  0.00005\n",
              "1  0.48  0.00010\n",
              "2  0.51  0.00020\n",
              "3  0.53  0.00030\n",
              "4  0.54  0.00040"
            ],
            "text/html": [
              "\n",
              "  <div id=\"df-fc76a954-14a0-4af8-ae1f-4b4333fae852\">\n",
              "    <div class=\"colab-df-container\">\n",
              "      <div>\n",
              "<style scoped>\n",
              "    .dataframe tbody tr th:only-of-type {\n",
              "        vertical-align: middle;\n",
              "    }\n",
              "\n",
              "    .dataframe tbody tr th {\n",
              "        vertical-align: top;\n",
              "    }\n",
              "\n",
              "    .dataframe thead th {\n",
              "        text-align: right;\n",
              "    }\n",
              "</style>\n",
              "<table border=\"1\" class=\"dataframe\">\n",
              "  <thead>\n",
              "    <tr style=\"text-align: right;\">\n",
              "      <th></th>\n",
              "      <th>V</th>\n",
              "      <th>I</th>\n",
              "    </tr>\n",
              "  </thead>\n",
              "  <tbody>\n",
              "    <tr>\n",
              "      <th>0</th>\n",
              "      <td>0.46</td>\n",
              "      <td>0.00005</td>\n",
              "    </tr>\n",
              "    <tr>\n",
              "      <th>1</th>\n",
              "      <td>0.48</td>\n",
              "      <td>0.00010</td>\n",
              "    </tr>\n",
              "    <tr>\n",
              "      <th>2</th>\n",
              "      <td>0.51</td>\n",
              "      <td>0.00020</td>\n",
              "    </tr>\n",
              "    <tr>\n",
              "      <th>3</th>\n",
              "      <td>0.53</td>\n",
              "      <td>0.00030</td>\n",
              "    </tr>\n",
              "    <tr>\n",
              "      <th>4</th>\n",
              "      <td>0.54</td>\n",
              "      <td>0.00040</td>\n",
              "    </tr>\n",
              "  </tbody>\n",
              "</table>\n",
              "</div>\n",
              "      <button class=\"colab-df-convert\" onclick=\"convertToInteractive('df-fc76a954-14a0-4af8-ae1f-4b4333fae852')\"\n",
              "              title=\"Convert this dataframe to an interactive table.\"\n",
              "              style=\"display:none;\">\n",
              "        \n",
              "  <svg xmlns=\"http://www.w3.org/2000/svg\" height=\"24px\"viewBox=\"0 0 24 24\"\n",
              "       width=\"24px\">\n",
              "    <path d=\"M0 0h24v24H0V0z\" fill=\"none\"/>\n",
              "    <path d=\"M18.56 5.44l.94 2.06.94-2.06 2.06-.94-2.06-.94-.94-2.06-.94 2.06-2.06.94zm-11 1L8.5 8.5l.94-2.06 2.06-.94-2.06-.94L8.5 2.5l-.94 2.06-2.06.94zm10 10l.94 2.06.94-2.06 2.06-.94-2.06-.94-.94-2.06-.94 2.06-2.06.94z\"/><path d=\"M17.41 7.96l-1.37-1.37c-.4-.4-.92-.59-1.43-.59-.52 0-1.04.2-1.43.59L10.3 9.45l-7.72 7.72c-.78.78-.78 2.05 0 2.83L4 21.41c.39.39.9.59 1.41.59.51 0 1.02-.2 1.41-.59l7.78-7.78 2.81-2.81c.8-.78.8-2.07 0-2.86zM5.41 20L4 18.59l7.72-7.72 1.47 1.35L5.41 20z\"/>\n",
              "  </svg>\n",
              "      </button>\n",
              "      \n",
              "  <style>\n",
              "    .colab-df-container {\n",
              "      display:flex;\n",
              "      flex-wrap:wrap;\n",
              "      gap: 12px;\n",
              "    }\n",
              "\n",
              "    .colab-df-convert {\n",
              "      background-color: #E8F0FE;\n",
              "      border: none;\n",
              "      border-radius: 50%;\n",
              "      cursor: pointer;\n",
              "      display: none;\n",
              "      fill: #1967D2;\n",
              "      height: 32px;\n",
              "      padding: 0 0 0 0;\n",
              "      width: 32px;\n",
              "    }\n",
              "\n",
              "    .colab-df-convert:hover {\n",
              "      background-color: #E2EBFA;\n",
              "      box-shadow: 0px 1px 2px rgba(60, 64, 67, 0.3), 0px 1px 3px 1px rgba(60, 64, 67, 0.15);\n",
              "      fill: #174EA6;\n",
              "    }\n",
              "\n",
              "    [theme=dark] .colab-df-convert {\n",
              "      background-color: #3B4455;\n",
              "      fill: #D2E3FC;\n",
              "    }\n",
              "\n",
              "    [theme=dark] .colab-df-convert:hover {\n",
              "      background-color: #434B5C;\n",
              "      box-shadow: 0px 1px 3px 1px rgba(0, 0, 0, 0.15);\n",
              "      filter: drop-shadow(0px 1px 2px rgba(0, 0, 0, 0.3));\n",
              "      fill: #FFFFFF;\n",
              "    }\n",
              "  </style>\n",
              "\n",
              "      <script>\n",
              "        const buttonEl =\n",
              "          document.querySelector('#df-fc76a954-14a0-4af8-ae1f-4b4333fae852 button.colab-df-convert');\n",
              "        buttonEl.style.display =\n",
              "          google.colab.kernel.accessAllowed ? 'block' : 'none';\n",
              "\n",
              "        async function convertToInteractive(key) {\n",
              "          const element = document.querySelector('#df-fc76a954-14a0-4af8-ae1f-4b4333fae852');\n",
              "          const dataTable =\n",
              "            await google.colab.kernel.invokeFunction('convertToInteractive',\n",
              "                                                     [key], {});\n",
              "          if (!dataTable) return;\n",
              "\n",
              "          const docLinkHtml = 'Like what you see? Visit the ' +\n",
              "            '<a target=\"_blank\" href=https://colab.research.google.com/notebooks/data_table.ipynb>data table notebook</a>'\n",
              "            + ' to learn more about interactive tables.';\n",
              "          element.innerHTML = '';\n",
              "          dataTable['output_type'] = 'display_data';\n",
              "          await google.colab.output.renderOutput(dataTable, element);\n",
              "          const docLink = document.createElement('div');\n",
              "          docLink.innerHTML = docLinkHtml;\n",
              "          element.appendChild(docLink);\n",
              "        }\n",
              "      </script>\n",
              "    </div>\n",
              "  </div>\n",
              "  "
            ]
          },
          "metadata": {},
          "execution_count": 29
        }
      ]
    },
    {
      "cell_type": "code",
      "source": [
        "df.describe()"
      ],
      "metadata": {
        "colab": {
          "base_uri": "https://localhost:8080/",
          "height": 300
        },
        "id": "YgU6_LxVSY53",
        "outputId": "c3b86851-b176-4e90-bbd7-e8d74eaf712f"
      },
      "execution_count": 30,
      "outputs": [
        {
          "output_type": "execute_result",
          "data": {
            "text/plain": [
              "               V          I\n",
              "count  38.000000  38.000000\n",
              "mean    0.599105   0.002181\n",
              "std     0.049144   0.001726\n",
              "min     0.460000   0.000050\n",
              "25%     0.580000   0.000925\n",
              "50%     0.604500   0.001650\n",
              "75%     0.636750   0.003258\n",
              "max     0.665000   0.006061"
            ],
            "text/html": [
              "\n",
              "  <div id=\"df-4b2e35c3-1ec4-43ff-87ec-bda6f4fc609b\">\n",
              "    <div class=\"colab-df-container\">\n",
              "      <div>\n",
              "<style scoped>\n",
              "    .dataframe tbody tr th:only-of-type {\n",
              "        vertical-align: middle;\n",
              "    }\n",
              "\n",
              "    .dataframe tbody tr th {\n",
              "        vertical-align: top;\n",
              "    }\n",
              "\n",
              "    .dataframe thead th {\n",
              "        text-align: right;\n",
              "    }\n",
              "</style>\n",
              "<table border=\"1\" class=\"dataframe\">\n",
              "  <thead>\n",
              "    <tr style=\"text-align: right;\">\n",
              "      <th></th>\n",
              "      <th>V</th>\n",
              "      <th>I</th>\n",
              "    </tr>\n",
              "  </thead>\n",
              "  <tbody>\n",
              "    <tr>\n",
              "      <th>count</th>\n",
              "      <td>38.000000</td>\n",
              "      <td>38.000000</td>\n",
              "    </tr>\n",
              "    <tr>\n",
              "      <th>mean</th>\n",
              "      <td>0.599105</td>\n",
              "      <td>0.002181</td>\n",
              "    </tr>\n",
              "    <tr>\n",
              "      <th>std</th>\n",
              "      <td>0.049144</td>\n",
              "      <td>0.001726</td>\n",
              "    </tr>\n",
              "    <tr>\n",
              "      <th>min</th>\n",
              "      <td>0.460000</td>\n",
              "      <td>0.000050</td>\n",
              "    </tr>\n",
              "    <tr>\n",
              "      <th>25%</th>\n",
              "      <td>0.580000</td>\n",
              "      <td>0.000925</td>\n",
              "    </tr>\n",
              "    <tr>\n",
              "      <th>50%</th>\n",
              "      <td>0.604500</td>\n",
              "      <td>0.001650</td>\n",
              "    </tr>\n",
              "    <tr>\n",
              "      <th>75%</th>\n",
              "      <td>0.636750</td>\n",
              "      <td>0.003258</td>\n",
              "    </tr>\n",
              "    <tr>\n",
              "      <th>max</th>\n",
              "      <td>0.665000</td>\n",
              "      <td>0.006061</td>\n",
              "    </tr>\n",
              "  </tbody>\n",
              "</table>\n",
              "</div>\n",
              "      <button class=\"colab-df-convert\" onclick=\"convertToInteractive('df-4b2e35c3-1ec4-43ff-87ec-bda6f4fc609b')\"\n",
              "              title=\"Convert this dataframe to an interactive table.\"\n",
              "              style=\"display:none;\">\n",
              "        \n",
              "  <svg xmlns=\"http://www.w3.org/2000/svg\" height=\"24px\"viewBox=\"0 0 24 24\"\n",
              "       width=\"24px\">\n",
              "    <path d=\"M0 0h24v24H0V0z\" fill=\"none\"/>\n",
              "    <path d=\"M18.56 5.44l.94 2.06.94-2.06 2.06-.94-2.06-.94-.94-2.06-.94 2.06-2.06.94zm-11 1L8.5 8.5l.94-2.06 2.06-.94-2.06-.94L8.5 2.5l-.94 2.06-2.06.94zm10 10l.94 2.06.94-2.06 2.06-.94-2.06-.94-.94-2.06-.94 2.06-2.06.94z\"/><path d=\"M17.41 7.96l-1.37-1.37c-.4-.4-.92-.59-1.43-.59-.52 0-1.04.2-1.43.59L10.3 9.45l-7.72 7.72c-.78.78-.78 2.05 0 2.83L4 21.41c.39.39.9.59 1.41.59.51 0 1.02-.2 1.41-.59l7.78-7.78 2.81-2.81c.8-.78.8-2.07 0-2.86zM5.41 20L4 18.59l7.72-7.72 1.47 1.35L5.41 20z\"/>\n",
              "  </svg>\n",
              "      </button>\n",
              "      \n",
              "  <style>\n",
              "    .colab-df-container {\n",
              "      display:flex;\n",
              "      flex-wrap:wrap;\n",
              "      gap: 12px;\n",
              "    }\n",
              "\n",
              "    .colab-df-convert {\n",
              "      background-color: #E8F0FE;\n",
              "      border: none;\n",
              "      border-radius: 50%;\n",
              "      cursor: pointer;\n",
              "      display: none;\n",
              "      fill: #1967D2;\n",
              "      height: 32px;\n",
              "      padding: 0 0 0 0;\n",
              "      width: 32px;\n",
              "    }\n",
              "\n",
              "    .colab-df-convert:hover {\n",
              "      background-color: #E2EBFA;\n",
              "      box-shadow: 0px 1px 2px rgba(60, 64, 67, 0.3), 0px 1px 3px 1px rgba(60, 64, 67, 0.15);\n",
              "      fill: #174EA6;\n",
              "    }\n",
              "\n",
              "    [theme=dark] .colab-df-convert {\n",
              "      background-color: #3B4455;\n",
              "      fill: #D2E3FC;\n",
              "    }\n",
              "\n",
              "    [theme=dark] .colab-df-convert:hover {\n",
              "      background-color: #434B5C;\n",
              "      box-shadow: 0px 1px 3px 1px rgba(0, 0, 0, 0.15);\n",
              "      filter: drop-shadow(0px 1px 2px rgba(0, 0, 0, 0.3));\n",
              "      fill: #FFFFFF;\n",
              "    }\n",
              "  </style>\n",
              "\n",
              "      <script>\n",
              "        const buttonEl =\n",
              "          document.querySelector('#df-4b2e35c3-1ec4-43ff-87ec-bda6f4fc609b button.colab-df-convert');\n",
              "        buttonEl.style.display =\n",
              "          google.colab.kernel.accessAllowed ? 'block' : 'none';\n",
              "\n",
              "        async function convertToInteractive(key) {\n",
              "          const element = document.querySelector('#df-4b2e35c3-1ec4-43ff-87ec-bda6f4fc609b');\n",
              "          const dataTable =\n",
              "            await google.colab.kernel.invokeFunction('convertToInteractive',\n",
              "                                                     [key], {});\n",
              "          if (!dataTable) return;\n",
              "\n",
              "          const docLinkHtml = 'Like what you see? Visit the ' +\n",
              "            '<a target=\"_blank\" href=https://colab.research.google.com/notebooks/data_table.ipynb>data table notebook</a>'\n",
              "            + ' to learn more about interactive tables.';\n",
              "          element.innerHTML = '';\n",
              "          dataTable['output_type'] = 'display_data';\n",
              "          await google.colab.output.renderOutput(dataTable, element);\n",
              "          const docLink = document.createElement('div');\n",
              "          docLink.innerHTML = docLinkHtml;\n",
              "          element.appendChild(docLink);\n",
              "        }\n",
              "      </script>\n",
              "    </div>\n",
              "  </div>\n",
              "  "
            ]
          },
          "metadata": {},
          "execution_count": 30
        }
      ]
    },
    {
      "cell_type": "markdown",
      "source": [
        "### **Ploteo del dataframe**"
      ],
      "metadata": {
        "id": "w-GJYpBWTWqW"
      }
    },
    {
      "cell_type": "code",
      "source": [
        "plt.figure(figsize = (12,8))\n",
        "plt.scatter(df[\"V\"], df[\"I\"], c = \"orange\", s = 20)\n",
        "plt.title(\"Muestreo Diodo - V vs I\")\n",
        "plt.xlabel(\"Tension en bornes (V)\")\n",
        "plt.ylabel(\"Corriente atravesando el diodo (I)\")"
      ],
      "metadata": {
        "colab": {
          "base_uri": "https://localhost:8080/",
          "height": 530
        },
        "id": "1HkDSKpGSpfv",
        "outputId": "dad2875f-318a-4e3e-aeaf-e2ad45f5986a"
      },
      "execution_count": 31,
      "outputs": [
        {
          "output_type": "execute_result",
          "data": {
            "text/plain": [
              "Text(0, 0.5, 'Corriente atravesando el diodo (I)')"
            ]
          },
          "metadata": {},
          "execution_count": 31
        },
        {
          "output_type": "display_data",
          "data": {
            "text/plain": [
              "<Figure size 864x576 with 1 Axes>"
            ],
            "image/png": "[encoded data removed]"
          },
          "metadata": {
            "needs_background": "light"
          }
        }
      ]
    },
    {
      "cell_type": "code",
      "source": [
        "radii = 1.3\n",
        "\n",
        "fis2 = fis()\n",
        "fis2.genfis(np.array(df), radii)\n",
        "fis2.viewInputs()\n",
        "\n",
        "r = fis2.evalfis(np.vstack(df[\"V\"]))\n",
        "\n",
        "plt.figure(figsize=(12,12))\n",
        "plt.title(\"FIT Sugeno Diodo\")\n",
        "plt.xlabel(\"Tension en bornes (V)\")\n",
        "plt.ylabel(\"Corriente atravesando el diodo (I)\")\n",
        "plt.scatter(df[\"V\"],df[\"I\"],c=\"coral\",s=25)\n",
        "plt.plot(df[\"V\"],r,c=\"black\",linestyle='--');\n",
        "plt.legend([\"Fit Sugeno\",\"Muestreo\" ])\n"
      ],
      "metadata": {
        "colab": {
          "base_uri": "https://localhost:8080/",
          "height": 1000
        },
        "id": "Ubk-1aw8TgA6",
        "outputId": "647e343e-e90a-456f-d7f1-724b0d75f503"
      },
      "execution_count": 77,
      "outputs": [
        {
          "output_type": "stream",
          "name": "stdout",
          "text": [
            "--- 0.005342960357666016 seconds ---\n",
            "[ 0.6326808  -0.66118634  0.05150086 -0.27424033  0.84773665 -0.02024658]\n"
          ]
        },
        {
          "output_type": "execute_result",
          "data": {
            "text/plain": [
              "<matplotlib.legend.Legend at 0x7f59dbbd40d0>"
            ]
          },
          "metadata": {},
          "execution_count": 77
        },
        {
          "output_type": "display_data",
          "data": {
            "text/plain": [
              "<Figure size 864x864 with 1 Axes>"
            ],
            "image/png": "[encoded data removed]"
          },
          "metadata": {
            "needs_background": "light"
          }
        },
        {
          "output_type": "display_data",
          "data": {
            "text/plain": [
              "<Figure size 864x864 with 1 Axes>"
            ],
            "image/png": "[encoded data removed]"
          },
          "metadata": {
            "needs_background": "light"
          }
        }
      ]
    }
  ]
}