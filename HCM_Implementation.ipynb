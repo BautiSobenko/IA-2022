{
  "nbformat": 4,
  "nbformat_minor": 0,
  "metadata": {
    "colab": {
      "provenance": [],
      "authorship_tag": "ABX9TyOMrk1VuAXtxTfK+KLurtbU",
      "include_colab_link": true
    },
    "kernelspec": {
      "name": "python3",
      "display_name": "Python 3"
    },
    "language_info": {
      "name": "python"
    }
  },
  "cells": [
    {
      "cell_type": "markdown",
      "metadata": {
        "id": "view-in-github",
        "colab_type": "text"
      },
      "source": [
        "<a href=\"https://colab.research.google.com/github/BautiSobenko/IA-2022/blob/main/HCM_Implementation.ipynb\" target=\"_parent\"><img src=\"https://colab.research.google.com/assets/colab-badge.svg\" alt=\"Open In Colab\"/></a>"
      ]
    },
    {
      "cell_type": "code",
      "execution_count": null,
      "metadata": {
        "id": "F_AWsxvNE5W7"
      },
      "outputs": [],
      "source": [
        "import numpy as np\n",
        "import matplotlib.pyplot as plt\n",
        "import pandas as pd"
      ]
    },
    {
      "cell_type": "code",
      "source": [
        "df = np.random.random((8,2))\n",
        "df"
      ],
      "metadata": {
        "colab": {
          "base_uri": "https://localhost:8080/"
        },
        "id": "V3KqUi0-GFID",
        "outputId": "220d7db9-5b92-4b8c-845c-f0a825205615"
      },
      "execution_count": null,
      "outputs": [
        {
          "output_type": "execute_result",
          "data": {
            "text/plain": [
              "array([[0.61261286, 0.45730865],\n",
              "       [0.32919197, 0.08392557],\n",
              "       [0.55132763, 0.13578652],\n",
              "       [0.22911456, 0.30463602],\n",
              "       [0.26554951, 0.92111692],\n",
              "       [0.12914173, 0.6938479 ],\n",
              "       [0.77451393, 0.01042592],\n",
              "       [0.437217  , 0.08420551]])"
            ]
          },
          "metadata": {},
          "execution_count": 259
        }
      ]
    },
    {
      "cell_type": "code",
      "source": [
        "plt.scatter(df[:,0],df[:,1]); #Grafico de datos en plano bidimensional"
      ],
      "metadata": {
        "colab": {
          "base_uri": "https://localhost:8080/",
          "height": 265
        },
        "id": "ojW7wPUbG5L8",
        "outputId": "73628899-1f81-4a52-96c4-4502892dc499"
      },
      "execution_count": null,
      "outputs": [
        {
          "output_type": "display_data",
          "data": {
            "text/plain": [
              "<Figure size 432x288 with 1 Axes>"
            ],
            "image/png": "[encoded data removed]"
          },
          "metadata": {
            "needs_background": "light"
          }
        }
      ]
    },
    {
      "cell_type": "code",
      "source": [
        "k = 2 # K selection"
      ],
      "metadata": {
        "id": "hy9JHytrG8Y8"
      },
      "execution_count": null,
      "outputs": []
    },
    {
      "cell_type": "markdown",
      "source": [
        "**Seleccion de Centros random**"
      ],
      "metadata": {
        "id": "8ms4cnhmLFW2"
      }
    },
    {
      "cell_type": "code",
      "source": [
        "#Creo nuevo array con los centros de cluster dados por el index random\n",
        "centrosCluster = np.random.random((2,2))\n",
        "centrosCluster"
      ],
      "metadata": {
        "colab": {
          "base_uri": "https://localhost:8080/"
        },
        "id": "8MCZlC9OIZo6",
        "outputId": "f0fe16dc-4b9d-44bc-9576-ede19d63727e"
      },
      "execution_count": null,
      "outputs": [
        {
          "output_type": "execute_result",
          "data": {
            "text/plain": [
              "array([[0.65878426, 0.57318676],\n",
              "       [0.40365371, 0.78781613]])"
            ]
          },
          "metadata": {},
          "execution_count": 261
        }
      ]
    },
    {
      "cell_type": "code",
      "source": [
        "plt.scatter(df[:,0],df[:,1], c=\"green\" ); #Grafico de datos en plano bidimensional\n",
        "plt.scatter(centrosCluster[:,0],centrosCluster[:,1],c=\"red\");"
      ],
      "metadata": {
        "colab": {
          "base_uri": "https://localhost:8080/",
          "height": 265
        },
        "id": "5Ot83I4OB8Qx",
        "outputId": "d2037b5a-3bf6-4a10-c81f-6d962306896d"
      },
      "execution_count": null,
      "outputs": [
        {
          "output_type": "display_data",
          "data": {
            "text/plain": [
              "<Figure size 432x288 with 1 Axes>"
            ],
            "image/png": "[encoded data removed]"
          },
          "metadata": {
            "needs_background": "light"
          }
        }
      ]
    },
    {
      "cell_type": "code",
      "source": [
        "cantDatos = df.shape[0]\n",
        "M = np.zeros( (k, cantDatos) )"
      ],
      "metadata": {
        "id": "5HfH5g_mEgaJ"
      },
      "execution_count": null,
      "outputs": []
    },
    {
      "cell_type": "code",
      "source": [
        "def dist_euclidea_arr(df,x2):\n",
        "    \"\"\"\n",
        "        arr.shape = (n_datos, n_dim)\n",
        "        x2.shape = (n_dim,)\n",
        "    \"\"\"\n",
        "    dista = []\n",
        "    for i in range(df.shape[0]):\n",
        "        dista.append(np.sqrt(np.sum((df[i]-x2)**2)))\n",
        "    return np.array(dista)"
      ],
      "metadata": {
        "id": "4_QbjPiaXHU7"
      },
      "execution_count": null,
      "outputs": []
    },
    {
      "cell_type": "code",
      "source": [
        "distClusters = np.array(dist_euclidea_arr( df, centrosCluster[0]))\n",
        "distClusters = np.append(distClusters, dist_euclidea_arr( df, centrosCluster[1]))\n",
        "distClusters = distClusters.reshape(2,8)\n",
        "distClusters"
      ],
      "metadata": {
        "colab": {
          "base_uri": "https://localhost:8080/"
        },
        "id": "raUEF4QiGRYj",
        "outputId": "64a1f0f7-5e10-4ceb-f389-6672b8a22ab5"
      },
      "execution_count": null,
      "outputs": [
        {
          "output_type": "execute_result",
          "data": {
            "text/plain": [
              "array([[0.12473785, 0.58992167, 0.45040636, 0.50669078, 0.52506091,\n",
              "        0.54321296, 0.57453731, 0.53683769],\n",
              "       [0.39102317, 0.7078181 , 0.66854334, 0.51373819, 0.19194236,\n",
              "        0.29014971, 0.86132041, 0.70441068]])"
            ]
          },
          "metadata": {},
          "execution_count": 265
        }
      ]
    },
    {
      "cell_type": "code",
      "source": [
        "#Matriz de pertenencia a clusters\n",
        "for i in range(cantDatos):\n",
        "  idx = np.argmax(distClusters[:,i], axis=0)\n",
        "  M[idx,i] = 1\n",
        "M = M.astype(int)\n",
        "M"
      ],
      "metadata": {
        "id": "lG-8H75Kgi-X",
        "colab": {
          "base_uri": "https://localhost:8080/"
        },
        "outputId": "d3eae152-3b7f-4901-fe35-d2454b2b77d6"
      },
      "execution_count": null,
      "outputs": [
        {
          "output_type": "execute_result",
          "data": {
            "text/plain": [
              "array([[0, 0, 0, 0, 1, 1, 0, 0],\n",
              "       [1, 1, 1, 1, 0, 0, 1, 1]])"
            ]
          },
          "metadata": {},
          "execution_count": 267
        }
      ]
    },
    {
      "cell_type": "code",
      "source": [
        "cluster1 = []\n",
        "cluster2 = []\n",
        "\n",
        "for i in range(cantDatos):\n",
        "  if (M[0,i] == 1):\n",
        "    cluster1.append(df[i,:])\n",
        "  else:\n",
        "    cluster2.append(df[i,:])\n",
        "\n",
        "cluster1 = np.array(cluster1)\n",
        "cluster2 = np.array(cluster2)\n"
      ],
      "metadata": {
        "id": "_aa-425m5qos"
      },
      "execution_count": null,
      "outputs": []
    },
    {
      "cell_type": "code",
      "source": [
        "cluster2"
      ],
      "metadata": {
        "colab": {
          "base_uri": "https://localhost:8080/"
        },
        "id": "KxKpqfzCNmJy",
        "outputId": "34901cbe-1b58-469d-fa74-a834eb15744c"
      },
      "execution_count": null,
      "outputs": [
        {
          "output_type": "execute_result",
          "data": {
            "text/plain": [
              "array([[0.61261286, 0.45730865],\n",
              "       [0.32919197, 0.08392557],\n",
              "       [0.55132763, 0.13578652],\n",
              "       [0.22911456, 0.30463602],\n",
              "       [0.77451393, 0.01042592],\n",
              "       [0.437217  , 0.08420551]])"
            ]
          },
          "metadata": {},
          "execution_count": 270
        }
      ]
    },
    {
      "cell_type": "code",
      "source": [
        "cluster1"
      ],
      "metadata": {
        "colab": {
          "base_uri": "https://localhost:8080/"
        },
        "id": "N0yM1oPPNrWG",
        "outputId": "e5ecf71a-2c32-4d16-dba5-2cf78fc2c59f"
      },
      "execution_count": null,
      "outputs": [
        {
          "output_type": "execute_result",
          "data": {
            "text/plain": [
              "array([[0.26554951, 0.92111692],\n",
              "       [0.12914173, 0.6938479 ]])"
            ]
          },
          "metadata": {},
          "execution_count": 271
        }
      ]
    },
    {
      "cell_type": "code",
      "source": [
        "#Grafico de datos en plano bidimensional\n",
        "plt.scatter( cluster1[:,0] , cluster1[:,1], c=\"green\");\n",
        "plt.scatter( cluster2[:,0] , cluster2[:,0], c=\"red\");\n",
        "plt.scatter(centrosCluster[:,0],centrosCluster[:,1],c=\"yellow\");"
      ],
      "metadata": {
        "colab": {
          "base_uri": "https://localhost:8080/",
          "height": 265
        },
        "id": "mOrtBklBtE6q",
        "outputId": "03f98c25-09d3-4a4b-a06d-36fcbedcdc71"
      },
      "execution_count": null,
      "outputs": [
        {
          "output_type": "display_data",
          "data": {
            "text/plain": [
              "<Figure size 432x288 with 1 Axes>"
            ],
            "image/png": "[encoded data removed]"
          },
          "metadata": {
            "needs_background": "light"
          }
        }
      ]
    },
    {
      "cell_type": "code",
      "source": [
        "#Actualizacion de centros de cluster\n",
        "\n",
        "actCentroCluster1 = np.array( [cluster1[:,0].mean(), cluster1[:,1].mean()] )\n",
        "actCentroCluster1"
      ],
      "metadata": {
        "colab": {
          "base_uri": "https://localhost:8080/"
        },
        "id": "Xcz-Ih6cw71W",
        "outputId": "849da930-57d1-421b-cfe0-a98542810c2b"
      },
      "execution_count": null,
      "outputs": [
        {
          "output_type": "execute_result",
          "data": {
            "text/plain": [
              "array([0.19734562, 0.80748241])"
            ]
          },
          "metadata": {},
          "execution_count": 283
        }
      ]
    },
    {
      "cell_type": "code",
      "source": [
        "actCentroCluster2 = np.array( [cluster2[:,0].mean(), cluster2[:,1].mean()] )\n",
        "actCentroCluster2"
      ],
      "metadata": {
        "colab": {
          "base_uri": "https://localhost:8080/"
        },
        "id": "0dRnboXHyNf3",
        "outputId": "bebf2e10-f6d0-49f5-c69b-d6cf32e1f71f"
      },
      "execution_count": null,
      "outputs": [
        {
          "output_type": "execute_result",
          "data": {
            "text/plain": [
              "array([0.48899633, 0.17938137])"
            ]
          },
          "metadata": {},
          "execution_count": 284
        }
      ]
    },
    {
      "cell_type": "code",
      "source": [
        "plt.scatter( cluster1[:,0] , cluster1[:,1] , c=\"green\" ); #Grafico de datos en plano bidimensional\n",
        "plt.scatter( cluster2[:,0] , cluster2[:,1] , c=\"red\" );\n",
        "plt.scatter( actCentroCluster1[0], actCentroCluster1[1], c=\"yellow\" )\n",
        "plt.scatter( actCentroCluster2[0], actCentroCluster2[1], c=\"yellow\" )"
      ],
      "metadata": {
        "colab": {
          "base_uri": "https://localhost:8080/",
          "height": 282
        },
        "id": "Fx4qvjgLzRL6",
        "outputId": "7ca2f412-6452-4dd4-f059-a90f3586aa44"
      },
      "execution_count": null,
      "outputs": [
        {
          "output_type": "execute_result",
          "data": {
            "text/plain": [
              "<matplotlib.collections.PathCollection at 0x7f3c644b2a90>"
            ]
          },
          "metadata": {},
          "execution_count": 288
        },
        {
          "output_type": "display_data",
          "data": {
            "text/plain": [
              "<Figure size 432x288 with 1 Axes>"
            ],
            "image/png": "[encoded data removed]"
          },
          "metadata": {
            "needs_background": "light"
          }
        }
      ]
    }
  ]
}